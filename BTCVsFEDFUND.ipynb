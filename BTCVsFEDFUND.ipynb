{
 "cells": [
  {
   "cell_type": "markdown",
   "id": "7fcd301d",
   "metadata": {},
   "source": [
    "# In this document, we try to figure out the correlation between fed fund and bitcoin price. Many people believe fed fund is of cruicial importance for bitcoin price movement. Is that true? "
   ]
  },
  {
   "cell_type": "code",
   "execution_count": 1,
   "id": "757e8409",
   "metadata": {},
   "outputs": [],
   "source": [
    "import yfinance as yf\n",
    "import pandas as pd\n",
    "import matplotlib.pyplot as plt\n",
    "import  mplfinance as mpf\n",
    "import numpy as np"
   ]
  },
  {
   "cell_type": "markdown",
   "id": "0f446406",
   "metadata": {},
   "source": [
    "## This dataset contains 1674 months data of fed funds and is collected from https://alfred.stlouisfed.org/series/downloaddata?seid=FEDFUNDS:"
   ]
  },
  {
   "cell_type": "code",
   "execution_count": 2,
   "id": "ce66ac65",
   "metadata": {},
   "outputs": [
    {
     "name": "stdout",
     "output_type": "stream",
     "text": [
      "This dataaset contains 1674 months data of fed funds.\n"
     ]
    },
    {
     "data": {
      "text/html": [
       "<div>\n",
       "<style scoped>\n",
       "    .dataframe tbody tr th:only-of-type {\n",
       "        vertical-align: middle;\n",
       "    }\n",
       "\n",
       "    .dataframe tbody tr th {\n",
       "        vertical-align: top;\n",
       "    }\n",
       "\n",
       "    .dataframe thead th {\n",
       "        text-align: right;\n",
       "    }\n",
       "</style>\n",
       "<table border=\"1\" class=\"dataframe\">\n",
       "  <thead>\n",
       "    <tr style=\"text-align: right;\">\n",
       "      <th></th>\n",
       "      <th>DATE</th>\n",
       "      <th>FEDFUNDS</th>\n",
       "    </tr>\n",
       "  </thead>\n",
       "  <tbody>\n",
       "    <tr>\n",
       "      <th>0</th>\n",
       "      <td>1954-07-01</td>\n",
       "      <td>0.80</td>\n",
       "    </tr>\n",
       "    <tr>\n",
       "      <th>1</th>\n",
       "      <td>1954-08-01</td>\n",
       "      <td>1.22</td>\n",
       "    </tr>\n",
       "    <tr>\n",
       "      <th>2</th>\n",
       "      <td>1954-09-01</td>\n",
       "      <td>1.07</td>\n",
       "    </tr>\n",
       "    <tr>\n",
       "      <th>3</th>\n",
       "      <td>1954-10-01</td>\n",
       "      <td>0.85</td>\n",
       "    </tr>\n",
       "    <tr>\n",
       "      <th>4</th>\n",
       "      <td>1954-11-01</td>\n",
       "      <td>0.83</td>\n",
       "    </tr>\n",
       "  </tbody>\n",
       "</table>\n",
       "</div>"
      ],
      "text/plain": [
       "         DATE  FEDFUNDS\n",
       "0  1954-07-01      0.80\n",
       "1  1954-08-01      1.22\n",
       "2  1954-09-01      1.07\n",
       "3  1954-10-01      0.85\n",
       "4  1954-11-01      0.83"
      ]
     },
     "execution_count": 2,
     "metadata": {},
     "output_type": "execute_result"
    }
   ],
   "source": [
    "df = pd.read_csv(\"C:/users/alire/Downloads/FEDFUNDS.csv\")\n",
    "print(\"This dataaset contains\", df.size, \"months data of fed funds.\")\n",
    "df.head()"
   ]
  },
  {
   "cell_type": "markdown",
   "id": "7f51708a",
   "metadata": {},
   "source": [
    "## Good to know that there is no null value in dataset:"
   ]
  },
  {
   "cell_type": "code",
   "execution_count": 3,
   "id": "b9e50ce5",
   "metadata": {},
   "outputs": [
    {
     "data": {
      "text/plain": [
       "DATE        0\n",
       "FEDFUNDS    0\n",
       "dtype: int64"
      ]
     },
     "execution_count": 3,
     "metadata": {},
     "output_type": "execute_result"
    }
   ],
   "source": [
    "df.isnull().sum()"
   ]
  },
  {
   "cell_type": "markdown",
   "id": "c2cf6b4b",
   "metadata": {},
   "source": [
    "## Let's take a look at description of dataset. As you see the mean of fed funds is equal to 4.6:"
   ]
  },
  {
   "cell_type": "code",
   "execution_count": 4,
   "id": "1a9ca037",
   "metadata": {},
   "outputs": [
    {
     "data": {
      "text/html": [
       "<div>\n",
       "<style scoped>\n",
       "    .dataframe tbody tr th:only-of-type {\n",
       "        vertical-align: middle;\n",
       "    }\n",
       "\n",
       "    .dataframe tbody tr th {\n",
       "        vertical-align: top;\n",
       "    }\n",
       "\n",
       "    .dataframe thead th {\n",
       "        text-align: right;\n",
       "    }\n",
       "</style>\n",
       "<table border=\"1\" class=\"dataframe\">\n",
       "  <thead>\n",
       "    <tr style=\"text-align: right;\">\n",
       "      <th></th>\n",
       "      <th>FEDFUNDS</th>\n",
       "    </tr>\n",
       "  </thead>\n",
       "  <tbody>\n",
       "    <tr>\n",
       "      <th>count</th>\n",
       "      <td>837.000000</td>\n",
       "    </tr>\n",
       "    <tr>\n",
       "      <th>mean</th>\n",
       "      <td>4.604277</td>\n",
       "    </tr>\n",
       "    <tr>\n",
       "      <th>std</th>\n",
       "      <td>3.586251</td>\n",
       "    </tr>\n",
       "    <tr>\n",
       "      <th>min</th>\n",
       "      <td>0.050000</td>\n",
       "    </tr>\n",
       "    <tr>\n",
       "      <th>25%</th>\n",
       "      <td>1.810000</td>\n",
       "    </tr>\n",
       "    <tr>\n",
       "      <th>50%</th>\n",
       "      <td>4.210000</td>\n",
       "    </tr>\n",
       "    <tr>\n",
       "      <th>75%</th>\n",
       "      <td>6.240000</td>\n",
       "    </tr>\n",
       "    <tr>\n",
       "      <th>max</th>\n",
       "      <td>19.100000</td>\n",
       "    </tr>\n",
       "  </tbody>\n",
       "</table>\n",
       "</div>"
      ],
      "text/plain": [
       "         FEDFUNDS\n",
       "count  837.000000\n",
       "mean     4.604277\n",
       "std      3.586251\n",
       "min      0.050000\n",
       "25%      1.810000\n",
       "50%      4.210000\n",
       "75%      6.240000\n",
       "max     19.100000"
      ]
     },
     "execution_count": 4,
     "metadata": {},
     "output_type": "execute_result"
    }
   ],
   "source": [
    "df.describe()"
   ]
  },
  {
   "cell_type": "markdown",
   "id": "709912ff",
   "metadata": {},
   "source": [
    "## We can see which months had the highest rate of fed funds (if you're interested then you can do your own research to see what caused this at that time) :"
   ]
  },
  {
   "cell_type": "code",
   "execution_count": 5,
   "id": "233a953a",
   "metadata": {},
   "outputs": [
    {
     "data": {
      "text/html": [
       "<div>\n",
       "<style scoped>\n",
       "    .dataframe tbody tr th:only-of-type {\n",
       "        vertical-align: middle;\n",
       "    }\n",
       "\n",
       "    .dataframe tbody tr th {\n",
       "        vertical-align: top;\n",
       "    }\n",
       "\n",
       "    .dataframe thead th {\n",
       "        text-align: right;\n",
       "    }\n",
       "</style>\n",
       "<table border=\"1\" class=\"dataframe\">\n",
       "  <thead>\n",
       "    <tr style=\"text-align: right;\">\n",
       "      <th></th>\n",
       "      <th>DATE</th>\n",
       "      <th>FEDFUNDS</th>\n",
       "    </tr>\n",
       "  </thead>\n",
       "  <tbody>\n",
       "    <tr>\n",
       "      <th>323</th>\n",
       "      <td>1981-06-01</td>\n",
       "      <td>19.10</td>\n",
       "    </tr>\n",
       "    <tr>\n",
       "      <th>318</th>\n",
       "      <td>1981-01-01</td>\n",
       "      <td>19.08</td>\n",
       "    </tr>\n",
       "    <tr>\n",
       "      <th>324</th>\n",
       "      <td>1981-07-01</td>\n",
       "      <td>19.04</td>\n",
       "    </tr>\n",
       "    <tr>\n",
       "      <th>317</th>\n",
       "      <td>1980-12-01</td>\n",
       "      <td>18.90</td>\n",
       "    </tr>\n",
       "    <tr>\n",
       "      <th>322</th>\n",
       "      <td>1981-05-01</td>\n",
       "      <td>18.52</td>\n",
       "    </tr>\n",
       "  </tbody>\n",
       "</table>\n",
       "</div>"
      ],
      "text/plain": [
       "           DATE  FEDFUNDS\n",
       "323  1981-06-01     19.10\n",
       "318  1981-01-01     19.08\n",
       "324  1981-07-01     19.04\n",
       "317  1980-12-01     18.90\n",
       "322  1981-05-01     18.52"
      ]
     },
     "execution_count": 5,
     "metadata": {},
     "output_type": "execute_result"
    }
   ],
   "source": [
    "df.sort_values(by='FEDFUNDS', ascending = False).head()"
   ]
  },
  {
   "cell_type": "markdown",
   "id": "729524fc",
   "metadata": {},
   "source": [
    "## And which had the lowest rate of fed funds:"
   ]
  },
  {
   "cell_type": "code",
   "execution_count": 6,
   "id": "a791bd8c",
   "metadata": {},
   "outputs": [
    {
     "data": {
      "text/html": [
       "<div>\n",
       "<style scoped>\n",
       "    .dataframe tbody tr th:only-of-type {\n",
       "        vertical-align: middle;\n",
       "    }\n",
       "\n",
       "    .dataframe tbody tr th {\n",
       "        vertical-align: top;\n",
       "    }\n",
       "\n",
       "    .dataframe thead th {\n",
       "        text-align: right;\n",
       "    }\n",
       "</style>\n",
       "<table border=\"1\" class=\"dataframe\">\n",
       "  <thead>\n",
       "    <tr style=\"text-align: right;\">\n",
       "      <th></th>\n",
       "      <th>DATE</th>\n",
       "      <th>FEDFUNDS</th>\n",
       "    </tr>\n",
       "  </thead>\n",
       "  <tbody>\n",
       "    <tr>\n",
       "      <th>789</th>\n",
       "      <td>2020-04-01</td>\n",
       "      <td>0.05</td>\n",
       "    </tr>\n",
       "    <tr>\n",
       "      <th>790</th>\n",
       "      <td>2020-05-01</td>\n",
       "      <td>0.05</td>\n",
       "    </tr>\n",
       "    <tr>\n",
       "      <th>802</th>\n",
       "      <td>2021-05-01</td>\n",
       "      <td>0.06</td>\n",
       "    </tr>\n",
       "    <tr>\n",
       "      <th>715</th>\n",
       "      <td>2014-02-01</td>\n",
       "      <td>0.07</td>\n",
       "    </tr>\n",
       "    <tr>\n",
       "      <th>684</th>\n",
       "      <td>2011-07-01</td>\n",
       "      <td>0.07</td>\n",
       "    </tr>\n",
       "  </tbody>\n",
       "</table>\n",
       "</div>"
      ],
      "text/plain": [
       "           DATE  FEDFUNDS\n",
       "789  2020-04-01      0.05\n",
       "790  2020-05-01      0.05\n",
       "802  2021-05-01      0.06\n",
       "715  2014-02-01      0.07\n",
       "684  2011-07-01      0.07"
      ]
     },
     "execution_count": 6,
     "metadata": {},
     "output_type": "execute_result"
    }
   ],
   "source": [
    "df.sort_values(by='FEDFUNDS', ascending = True).head()"
   ]
  },
  {
   "cell_type": "markdown",
   "id": "65ba4e14",
   "metadata": {},
   "source": [
    "## Now we take a look at bitcoin dataset, it is collected with the help of yfinance library:"
   ]
  },
  {
   "cell_type": "code",
   "execution_count": 7,
   "id": "733dfc46",
   "metadata": {},
   "outputs": [
    {
     "name": "stderr",
     "output_type": "stream",
     "text": [
      "[*********************100%%**********************]  1 of 1 completed\n"
     ]
    },
    {
     "data": {
      "text/html": [
       "<div>\n",
       "<style scoped>\n",
       "    .dataframe tbody tr th:only-of-type {\n",
       "        vertical-align: middle;\n",
       "    }\n",
       "\n",
       "    .dataframe tbody tr th {\n",
       "        vertical-align: top;\n",
       "    }\n",
       "\n",
       "    .dataframe thead th {\n",
       "        text-align: right;\n",
       "    }\n",
       "</style>\n",
       "<table border=\"1\" class=\"dataframe\">\n",
       "  <thead>\n",
       "    <tr style=\"text-align: right;\">\n",
       "      <th></th>\n",
       "      <th>Open</th>\n",
       "      <th>High</th>\n",
       "      <th>Low</th>\n",
       "      <th>Close</th>\n",
       "      <th>Adj Close</th>\n",
       "      <th>Volume</th>\n",
       "    </tr>\n",
       "    <tr>\n",
       "      <th>Date</th>\n",
       "      <th></th>\n",
       "      <th></th>\n",
       "      <th></th>\n",
       "      <th></th>\n",
       "      <th></th>\n",
       "      <th></th>\n",
       "    </tr>\n",
       "  </thead>\n",
       "  <tbody>\n",
       "    <tr>\n",
       "      <th>2024-05-02</th>\n",
       "      <td>58253.703125</td>\n",
       "      <td>59602.296875</td>\n",
       "      <td>56937.203125</td>\n",
       "      <td>59123.433594</td>\n",
       "      <td>59123.433594</td>\n",
       "      <td>32711813559</td>\n",
       "    </tr>\n",
       "    <tr>\n",
       "      <th>2024-05-03</th>\n",
       "      <td>59122.300781</td>\n",
       "      <td>63320.503906</td>\n",
       "      <td>58848.312500</td>\n",
       "      <td>62889.835938</td>\n",
       "      <td>62889.835938</td>\n",
       "      <td>33172023048</td>\n",
       "    </tr>\n",
       "    <tr>\n",
       "      <th>2024-05-04</th>\n",
       "      <td>62891.031250</td>\n",
       "      <td>64494.957031</td>\n",
       "      <td>62599.351562</td>\n",
       "      <td>63891.472656</td>\n",
       "      <td>63891.472656</td>\n",
       "      <td>20620477992</td>\n",
       "    </tr>\n",
       "    <tr>\n",
       "      <th>2024-05-05</th>\n",
       "      <td>63892.453125</td>\n",
       "      <td>64610.890625</td>\n",
       "      <td>62955.304688</td>\n",
       "      <td>64031.132812</td>\n",
       "      <td>64031.132812</td>\n",
       "      <td>18296164805</td>\n",
       "    </tr>\n",
       "    <tr>\n",
       "      <th>2024-05-06</th>\n",
       "      <td>64038.312500</td>\n",
       "      <td>65494.902344</td>\n",
       "      <td>62746.238281</td>\n",
       "      <td>63161.949219</td>\n",
       "      <td>63161.949219</td>\n",
       "      <td>28697928697</td>\n",
       "    </tr>\n",
       "  </tbody>\n",
       "</table>\n",
       "</div>"
      ],
      "text/plain": [
       "                    Open          High           Low         Close  \\\n",
       "Date                                                                 \n",
       "2024-05-02  58253.703125  59602.296875  56937.203125  59123.433594   \n",
       "2024-05-03  59122.300781  63320.503906  58848.312500  62889.835938   \n",
       "2024-05-04  62891.031250  64494.957031  62599.351562  63891.472656   \n",
       "2024-05-05  63892.453125  64610.890625  62955.304688  64031.132812   \n",
       "2024-05-06  64038.312500  65494.902344  62746.238281  63161.949219   \n",
       "\n",
       "               Adj Close       Volume  \n",
       "Date                                   \n",
       "2024-05-02  59123.433594  32711813559  \n",
       "2024-05-03  62889.835938  33172023048  \n",
       "2024-05-04  63891.472656  20620477992  \n",
       "2024-05-05  64031.132812  18296164805  \n",
       "2024-05-06  63161.949219  28697928697  "
      ]
     },
     "execution_count": 7,
     "metadata": {},
     "output_type": "execute_result"
    }
   ],
   "source": [
    "btc_df = yf.download('BTC-USD', start='2020-01-01', end='2024-05-07')\n",
    "btc_df.tail()"
   ]
  },
  {
   "cell_type": "markdown",
   "id": "d8a311d2",
   "metadata": {},
   "source": [
    "## There is no null value in dataset:"
   ]
  },
  {
   "cell_type": "code",
   "execution_count": 8,
   "id": "3f21fab6",
   "metadata": {},
   "outputs": [
    {
     "data": {
      "text/plain": [
       "Open         0\n",
       "High         0\n",
       "Low          0\n",
       "Close        0\n",
       "Adj Close    0\n",
       "Volume       0\n",
       "dtype: int64"
      ]
     },
     "execution_count": 8,
     "metadata": {},
     "output_type": "execute_result"
    }
   ],
   "source": [
    "btc_df.isnull().sum()"
   ]
  },
  {
   "cell_type": "markdown",
   "id": "3e50536a",
   "metadata": {},
   "source": [
    "## Let's take a look at description of dataset. The interesting thing to know is the mean of its price:"
   ]
  },
  {
   "cell_type": "code",
   "execution_count": 9,
   "id": "a649a476",
   "metadata": {},
   "outputs": [
    {
     "data": {
      "text/html": [
       "<div>\n",
       "<style scoped>\n",
       "    .dataframe tbody tr th:only-of-type {\n",
       "        vertical-align: middle;\n",
       "    }\n",
       "\n",
       "    .dataframe tbody tr th {\n",
       "        vertical-align: top;\n",
       "    }\n",
       "\n",
       "    .dataframe thead th {\n",
       "        text-align: right;\n",
       "    }\n",
       "</style>\n",
       "<table border=\"1\" class=\"dataframe\">\n",
       "  <thead>\n",
       "    <tr style=\"text-align: right;\">\n",
       "      <th></th>\n",
       "      <th>Open</th>\n",
       "      <th>High</th>\n",
       "      <th>Low</th>\n",
       "      <th>Close</th>\n",
       "      <th>Adj Close</th>\n",
       "      <th>Volume</th>\n",
       "    </tr>\n",
       "  </thead>\n",
       "  <tbody>\n",
       "    <tr>\n",
       "      <th>count</th>\n",
       "      <td>1588.000000</td>\n",
       "      <td>1588.000000</td>\n",
       "      <td>1588.000000</td>\n",
       "      <td>1588.000000</td>\n",
       "      <td>1588.000000</td>\n",
       "      <td>1.588000e+03</td>\n",
       "    </tr>\n",
       "    <tr>\n",
       "      <th>mean</th>\n",
       "      <td>31096.145456</td>\n",
       "      <td>31803.978025</td>\n",
       "      <td>30338.623331</td>\n",
       "      <td>31128.740766</td>\n",
       "      <td>31128.740766</td>\n",
       "      <td>3.225180e+10</td>\n",
       "    </tr>\n",
       "    <tr>\n",
       "      <th>std</th>\n",
       "      <td>16648.659057</td>\n",
       "      <td>17076.687087</td>\n",
       "      <td>16150.514751</td>\n",
       "      <td>16653.867400</td>\n",
       "      <td>16653.867400</td>\n",
       "      <td>1.854932e+10</td>\n",
       "    </tr>\n",
       "    <tr>\n",
       "      <th>min</th>\n",
       "      <td>5002.578125</td>\n",
       "      <td>5331.833984</td>\n",
       "      <td>4106.980957</td>\n",
       "      <td>4970.788086</td>\n",
       "      <td>4970.788086</td>\n",
       "      <td>5.331173e+09</td>\n",
       "    </tr>\n",
       "    <tr>\n",
       "      <th>25%</th>\n",
       "      <td>18368.767090</td>\n",
       "      <td>18843.020508</td>\n",
       "      <td>17893.108887</td>\n",
       "      <td>18498.454102</td>\n",
       "      <td>18498.454102</td>\n",
       "      <td>2.018018e+10</td>\n",
       "    </tr>\n",
       "    <tr>\n",
       "      <th>50%</th>\n",
       "      <td>28965.372070</td>\n",
       "      <td>29364.446289</td>\n",
       "      <td>28422.126953</td>\n",
       "      <td>28969.038086</td>\n",
       "      <td>28969.038086</td>\n",
       "      <td>2.920407e+10</td>\n",
       "    </tr>\n",
       "    <tr>\n",
       "      <th>75%</th>\n",
       "      <td>42862.927734</td>\n",
       "      <td>43719.222656</td>\n",
       "      <td>42003.992188</td>\n",
       "      <td>42862.561523</td>\n",
       "      <td>42862.561523</td>\n",
       "      <td>3.942206e+10</td>\n",
       "    </tr>\n",
       "    <tr>\n",
       "      <th>max</th>\n",
       "      <td>73079.375000</td>\n",
       "      <td>73750.070312</td>\n",
       "      <td>71334.093750</td>\n",
       "      <td>73083.500000</td>\n",
       "      <td>73083.500000</td>\n",
       "      <td>3.509679e+11</td>\n",
       "    </tr>\n",
       "  </tbody>\n",
       "</table>\n",
       "</div>"
      ],
      "text/plain": [
       "               Open          High           Low         Close     Adj Close  \\\n",
       "count   1588.000000   1588.000000   1588.000000   1588.000000   1588.000000   \n",
       "mean   31096.145456  31803.978025  30338.623331  31128.740766  31128.740766   \n",
       "std    16648.659057  17076.687087  16150.514751  16653.867400  16653.867400   \n",
       "min     5002.578125   5331.833984   4106.980957   4970.788086   4970.788086   \n",
       "25%    18368.767090  18843.020508  17893.108887  18498.454102  18498.454102   \n",
       "50%    28965.372070  29364.446289  28422.126953  28969.038086  28969.038086   \n",
       "75%    42862.927734  43719.222656  42003.992188  42862.561523  42862.561523   \n",
       "max    73079.375000  73750.070312  71334.093750  73083.500000  73083.500000   \n",
       "\n",
       "             Volume  \n",
       "count  1.588000e+03  \n",
       "mean   3.225180e+10  \n",
       "std    1.854932e+10  \n",
       "min    5.331173e+09  \n",
       "25%    2.018018e+10  \n",
       "50%    2.920407e+10  \n",
       "75%    3.942206e+10  \n",
       "max    3.509679e+11  "
      ]
     },
     "execution_count": 9,
     "metadata": {},
     "output_type": "execute_result"
    }
   ],
   "source": [
    "btc_df.describe()"
   ]
  },
  {
   "cell_type": "code",
   "execution_count": 10,
   "id": "a059334a",
   "metadata": {},
   "outputs": [
    {
     "data": {
      "text/plain": [
       "Date\n",
       "2024-03-13    73083.500000\n",
       "2024-03-11    72123.906250\n",
       "2024-04-08    71631.359375\n",
       "2024-03-12    71481.289062\n",
       "2024-03-14    71396.593750\n",
       "                  ...     \n",
       "2020-03-18     5238.438477\n",
       "2020-03-17     5225.629395\n",
       "2020-03-14     5200.366211\n",
       "2020-03-16     5014.479980\n",
       "2020-03-12     4970.788086\n",
       "Name: Close, Length: 1588, dtype: float64"
      ]
     },
     "execution_count": 10,
     "metadata": {},
     "output_type": "execute_result"
    }
   ],
   "source": [
    "btc_df[\"Close\"].sort_values(ascending= False)"
   ]
  },
  {
   "cell_type": "markdown",
   "id": "d3685f03",
   "metadata": {},
   "source": [
    "## We will just consider the close price and ignore the shadows of candles :"
   ]
  },
  {
   "cell_type": "code",
   "execution_count": 11,
   "id": "3b790176",
   "metadata": {},
   "outputs": [
    {
     "data": {
      "text/html": [
       "<div>\n",
       "<style scoped>\n",
       "    .dataframe tbody tr th:only-of-type {\n",
       "        vertical-align: middle;\n",
       "    }\n",
       "\n",
       "    .dataframe tbody tr th {\n",
       "        vertical-align: top;\n",
       "    }\n",
       "\n",
       "    .dataframe thead th {\n",
       "        text-align: right;\n",
       "    }\n",
       "</style>\n",
       "<table border=\"1\" class=\"dataframe\">\n",
       "  <thead>\n",
       "    <tr style=\"text-align: right;\">\n",
       "      <th></th>\n",
       "      <th>Close</th>\n",
       "    </tr>\n",
       "    <tr>\n",
       "      <th>Date</th>\n",
       "      <th></th>\n",
       "    </tr>\n",
       "  </thead>\n",
       "  <tbody>\n",
       "    <tr>\n",
       "      <th>2020-01-01</th>\n",
       "      <td>7200.174316</td>\n",
       "    </tr>\n",
       "    <tr>\n",
       "      <th>2020-01-02</th>\n",
       "      <td>6985.470215</td>\n",
       "    </tr>\n",
       "    <tr>\n",
       "      <th>2020-01-03</th>\n",
       "      <td>7344.884277</td>\n",
       "    </tr>\n",
       "    <tr>\n",
       "      <th>2020-01-04</th>\n",
       "      <td>7410.656738</td>\n",
       "    </tr>\n",
       "    <tr>\n",
       "      <th>2020-01-05</th>\n",
       "      <td>7411.317383</td>\n",
       "    </tr>\n",
       "  </tbody>\n",
       "</table>\n",
       "</div>"
      ],
      "text/plain": [
       "                  Close\n",
       "Date                   \n",
       "2020-01-01  7200.174316\n",
       "2020-01-02  6985.470215\n",
       "2020-01-03  7344.884277\n",
       "2020-01-04  7410.656738\n",
       "2020-01-05  7411.317383"
      ]
     },
     "execution_count": 11,
     "metadata": {},
     "output_type": "execute_result"
    }
   ],
   "source": [
    "btc_df = pd.DataFrame(btc_df[\"Close\"])\n",
    "btc_df.head()"
   ]
  },
  {
   "cell_type": "markdown",
   "id": "e210894e",
   "metadata": {},
   "source": [
    "## Since we have data of fed funds on first day of each month, we take the bitcoin price on first day of each month"
   ]
  },
  {
   "cell_type": "code",
   "execution_count": 12,
   "id": "eeb5a92f",
   "metadata": {
    "scrolled": true
   },
   "outputs": [
    {
     "data": {
      "text/html": [
       "<div>\n",
       "<style scoped>\n",
       "    .dataframe tbody tr th:only-of-type {\n",
       "        vertical-align: middle;\n",
       "    }\n",
       "\n",
       "    .dataframe tbody tr th {\n",
       "        vertical-align: top;\n",
       "    }\n",
       "\n",
       "    .dataframe thead th {\n",
       "        text-align: right;\n",
       "    }\n",
       "</style>\n",
       "<table border=\"1\" class=\"dataframe\">\n",
       "  <thead>\n",
       "    <tr style=\"text-align: right;\">\n",
       "      <th></th>\n",
       "      <th>Close</th>\n",
       "    </tr>\n",
       "    <tr>\n",
       "      <th>Date</th>\n",
       "      <th></th>\n",
       "    </tr>\n",
       "  </thead>\n",
       "  <tbody>\n",
       "    <tr>\n",
       "      <th>2020-01-01</th>\n",
       "      <td>7200.174316</td>\n",
       "    </tr>\n",
       "    <tr>\n",
       "      <th>2020-02-01</th>\n",
       "      <td>9392.875000</td>\n",
       "    </tr>\n",
       "    <tr>\n",
       "      <th>2020-03-01</th>\n",
       "      <td>8562.454102</td>\n",
       "    </tr>\n",
       "    <tr>\n",
       "      <th>2020-04-01</th>\n",
       "      <td>6606.776367</td>\n",
       "    </tr>\n",
       "    <tr>\n",
       "      <th>2020-05-01</th>\n",
       "      <td>8864.766602</td>\n",
       "    </tr>\n",
       "  </tbody>\n",
       "</table>\n",
       "</div>"
      ],
      "text/plain": [
       "                  Close\n",
       "Date                   \n",
       "2020-01-01  7200.174316\n",
       "2020-02-01  9392.875000\n",
       "2020-03-01  8562.454102\n",
       "2020-04-01  6606.776367\n",
       "2020-05-01  8864.766602"
      ]
     },
     "execution_count": 12,
     "metadata": {},
     "output_type": "execute_result"
    }
   ],
   "source": [
    "btc_df = btc_df.groupby(pd.Grouper(freq='MS')).first()\n",
    "btc_df.head()"
   ]
  },
  {
   "cell_type": "markdown",
   "id": "fd7cceb6",
   "metadata": {},
   "source": [
    "## Let's normalize the price between 0 and 1"
   ]
  },
  {
   "cell_type": "code",
   "execution_count": 13,
   "id": "ed03438a",
   "metadata": {},
   "outputs": [
    {
     "data": {
      "text/html": [
       "<div>\n",
       "<style scoped>\n",
       "    .dataframe tbody tr th:only-of-type {\n",
       "        vertical-align: middle;\n",
       "    }\n",
       "\n",
       "    .dataframe tbody tr th {\n",
       "        vertical-align: top;\n",
       "    }\n",
       "\n",
       "    .dataframe thead th {\n",
       "        text-align: right;\n",
       "    }\n",
       "</style>\n",
       "<table border=\"1\" class=\"dataframe\">\n",
       "  <thead>\n",
       "    <tr style=\"text-align: right;\">\n",
       "      <th></th>\n",
       "      <th>Close</th>\n",
       "    </tr>\n",
       "    <tr>\n",
       "      <th>Date</th>\n",
       "      <th></th>\n",
       "    </tr>\n",
       "  </thead>\n",
       "  <tbody>\n",
       "    <tr>\n",
       "      <th>2020-01-01</th>\n",
       "      <td>0.009405</td>\n",
       "    </tr>\n",
       "    <tr>\n",
       "      <th>2020-02-01</th>\n",
       "      <td>0.044157</td>\n",
       "    </tr>\n",
       "    <tr>\n",
       "      <th>2020-03-01</th>\n",
       "      <td>0.030996</td>\n",
       "    </tr>\n",
       "    <tr>\n",
       "      <th>2020-04-01</th>\n",
       "      <td>0.000000</td>\n",
       "    </tr>\n",
       "    <tr>\n",
       "      <th>2020-05-01</th>\n",
       "      <td>0.035787</td>\n",
       "    </tr>\n",
       "  </tbody>\n",
       "</table>\n",
       "</div>"
      ],
      "text/plain": [
       "               Close\n",
       "Date                \n",
       "2020-01-01  0.009405\n",
       "2020-02-01  0.044157\n",
       "2020-03-01  0.030996\n",
       "2020-04-01  0.000000\n",
       "2020-05-01  0.035787"
      ]
     },
     "execution_count": 13,
     "metadata": {},
     "output_type": "execute_result"
    }
   ],
   "source": [
    "min_btc_close = btc_df.min()\n",
    "max_btc_close = btc_df.max()\n",
    "btc_df = ((btc_df - min_btc_close) / (max_btc_close - min_btc_close)) * (1 - 0)\n",
    "btc_df.head()"
   ]
  },
  {
   "cell_type": "markdown",
   "id": "3db8a1c6",
   "metadata": {},
   "source": [
    "## Let's normalize the data between 0 and 1"
   ]
  },
  {
   "cell_type": "code",
   "execution_count": 14,
   "id": "3dda5ca0",
   "metadata": {},
   "outputs": [
    {
     "name": "stdout",
     "output_type": "stream",
     "text": [
      "The size of dataset is : 51\n",
      "The size of dataset is : 51\n"
     ]
    }
   ],
   "source": [
    "df = df[-51:]\n",
    "print(\"The size of dataset is :\", df[\"FEDFUNDS\"].size)\n",
    "btc_df = btc_df[:-2]\n",
    "print(\"The size of dataset is :\" , btc_df[\"Close\"].size)"
   ]
  },
  {
   "cell_type": "code",
   "execution_count": 15,
   "id": "4e9410ba",
   "metadata": {},
   "outputs": [
    {
     "data": {
      "text/html": [
       "<div>\n",
       "<style scoped>\n",
       "    .dataframe tbody tr th:only-of-type {\n",
       "        vertical-align: middle;\n",
       "    }\n",
       "\n",
       "    .dataframe tbody tr th {\n",
       "        vertical-align: top;\n",
       "    }\n",
       "\n",
       "    .dataframe thead th {\n",
       "        text-align: right;\n",
       "    }\n",
       "</style>\n",
       "<table border=\"1\" class=\"dataframe\">\n",
       "  <thead>\n",
       "    <tr style=\"text-align: right;\">\n",
       "      <th></th>\n",
       "      <th>DATE</th>\n",
       "      <th>FEDFUNDS</th>\n",
       "    </tr>\n",
       "  </thead>\n",
       "  <tbody>\n",
       "    <tr>\n",
       "      <th>786</th>\n",
       "      <td>2020-01-01</td>\n",
       "      <td>1.55</td>\n",
       "    </tr>\n",
       "    <tr>\n",
       "      <th>787</th>\n",
       "      <td>2020-02-01</td>\n",
       "      <td>1.58</td>\n",
       "    </tr>\n",
       "    <tr>\n",
       "      <th>788</th>\n",
       "      <td>2020-03-01</td>\n",
       "      <td>0.65</td>\n",
       "    </tr>\n",
       "  </tbody>\n",
       "</table>\n",
       "</div>"
      ],
      "text/plain": [
       "           DATE  FEDFUNDS\n",
       "786  2020-01-01      1.55\n",
       "787  2020-02-01      1.58\n",
       "788  2020-03-01      0.65"
      ]
     },
     "execution_count": 15,
     "metadata": {},
     "output_type": "execute_result"
    }
   ],
   "source": [
    "df.head(3)"
   ]
  },
  {
   "cell_type": "code",
   "execution_count": 16,
   "id": "2e204d9c",
   "metadata": {},
   "outputs": [
    {
     "data": {
      "text/html": [
       "<div>\n",
       "<style scoped>\n",
       "    .dataframe tbody tr th:only-of-type {\n",
       "        vertical-align: middle;\n",
       "    }\n",
       "\n",
       "    .dataframe tbody tr th {\n",
       "        vertical-align: top;\n",
       "    }\n",
       "\n",
       "    .dataframe thead th {\n",
       "        text-align: right;\n",
       "    }\n",
       "</style>\n",
       "<table border=\"1\" class=\"dataframe\">\n",
       "  <thead>\n",
       "    <tr style=\"text-align: right;\">\n",
       "      <th></th>\n",
       "      <th>Close</th>\n",
       "    </tr>\n",
       "    <tr>\n",
       "      <th>Date</th>\n",
       "      <th></th>\n",
       "    </tr>\n",
       "  </thead>\n",
       "  <tbody>\n",
       "    <tr>\n",
       "      <th>2020-01-01</th>\n",
       "      <td>0.009405</td>\n",
       "    </tr>\n",
       "    <tr>\n",
       "      <th>2020-02-01</th>\n",
       "      <td>0.044157</td>\n",
       "    </tr>\n",
       "    <tr>\n",
       "      <th>2020-03-01</th>\n",
       "      <td>0.030996</td>\n",
       "    </tr>\n",
       "  </tbody>\n",
       "</table>\n",
       "</div>"
      ],
      "text/plain": [
       "               Close\n",
       "Date                \n",
       "2020-01-01  0.009405\n",
       "2020-02-01  0.044157\n",
       "2020-03-01  0.030996"
      ]
     },
     "execution_count": 16,
     "metadata": {},
     "output_type": "execute_result"
    }
   ],
   "source": [
    "btc_df.head(3)"
   ]
  },
  {
   "cell_type": "code",
   "execution_count": 17,
   "id": "8637aab7",
   "metadata": {},
   "outputs": [
    {
     "data": {
      "text/html": [
       "<div>\n",
       "<style scoped>\n",
       "    .dataframe tbody tr th:only-of-type {\n",
       "        vertical-align: middle;\n",
       "    }\n",
       "\n",
       "    .dataframe tbody tr th {\n",
       "        vertical-align: top;\n",
       "    }\n",
       "\n",
       "    .dataframe thead th {\n",
       "        text-align: right;\n",
       "    }\n",
       "</style>\n",
       "<table border=\"1\" class=\"dataframe\">\n",
       "  <thead>\n",
       "    <tr style=\"text-align: right;\">\n",
       "      <th></th>\n",
       "      <th>DATE</th>\n",
       "      <th>FEDFUNDS</th>\n",
       "    </tr>\n",
       "  </thead>\n",
       "  <tbody>\n",
       "    <tr>\n",
       "      <th>786</th>\n",
       "      <td>2020-01-01</td>\n",
       "      <td>0.284091</td>\n",
       "    </tr>\n",
       "    <tr>\n",
       "      <th>787</th>\n",
       "      <td>2020-02-01</td>\n",
       "      <td>0.289773</td>\n",
       "    </tr>\n",
       "    <tr>\n",
       "      <th>788</th>\n",
       "      <td>2020-03-01</td>\n",
       "      <td>0.113636</td>\n",
       "    </tr>\n",
       "    <tr>\n",
       "      <th>789</th>\n",
       "      <td>2020-04-01</td>\n",
       "      <td>0.000000</td>\n",
       "    </tr>\n",
       "    <tr>\n",
       "      <th>790</th>\n",
       "      <td>2020-05-01</td>\n",
       "      <td>0.000000</td>\n",
       "    </tr>\n",
       "  </tbody>\n",
       "</table>\n",
       "</div>"
      ],
      "text/plain": [
       "           DATE  FEDFUNDS\n",
       "786  2020-01-01  0.284091\n",
       "787  2020-02-01  0.289773\n",
       "788  2020-03-01  0.113636\n",
       "789  2020-04-01  0.000000\n",
       "790  2020-05-01  0.000000"
      ]
     },
     "execution_count": 17,
     "metadata": {},
     "output_type": "execute_result"
    }
   ],
   "source": [
    "min_fed_fund_rate = df[\"FEDFUNDS\"].min()\n",
    "max_fed_fund_rate = df[\"FEDFUNDS\"].max()\n",
    "df[\"FEDFUNDS\"] = ((df[\"FEDFUNDS\"]- min_fed_fund_rate ) / (max_fed_fund_rate- min_fed_fund_rate)) * (1 - 0)\n",
    "df.head()"
   ]
  },
  {
   "cell_type": "code",
   "execution_count": 18,
   "id": "0812fda0",
   "metadata": {},
   "outputs": [
    {
     "data": {
      "text/html": [
       "<div>\n",
       "<style scoped>\n",
       "    .dataframe tbody tr th:only-of-type {\n",
       "        vertical-align: middle;\n",
       "    }\n",
       "\n",
       "    .dataframe tbody tr th {\n",
       "        vertical-align: top;\n",
       "    }\n",
       "\n",
       "    .dataframe thead th {\n",
       "        text-align: right;\n",
       "    }\n",
       "</style>\n",
       "<table border=\"1\" class=\"dataframe\">\n",
       "  <thead>\n",
       "    <tr style=\"text-align: right;\">\n",
       "      <th></th>\n",
       "      <th>Close</th>\n",
       "    </tr>\n",
       "    <tr>\n",
       "      <th>Date</th>\n",
       "      <th></th>\n",
       "    </tr>\n",
       "  </thead>\n",
       "  <tbody>\n",
       "    <tr>\n",
       "      <th>2020-01-01</th>\n",
       "      <td>0.010628</td>\n",
       "    </tr>\n",
       "    <tr>\n",
       "      <th>2020-02-01</th>\n",
       "      <td>0.049900</td>\n",
       "    </tr>\n",
       "    <tr>\n",
       "      <th>2020-03-01</th>\n",
       "      <td>0.035027</td>\n",
       "    </tr>\n",
       "    <tr>\n",
       "      <th>2020-04-01</th>\n",
       "      <td>0.000000</td>\n",
       "    </tr>\n",
       "    <tr>\n",
       "      <th>2020-05-01</th>\n",
       "      <td>0.040441</td>\n",
       "    </tr>\n",
       "  </tbody>\n",
       "</table>\n",
       "</div>"
      ],
      "text/plain": [
       "               Close\n",
       "Date                \n",
       "2020-01-01  0.010628\n",
       "2020-02-01  0.049900\n",
       "2020-03-01  0.035027\n",
       "2020-04-01  0.000000\n",
       "2020-05-01  0.040441"
      ]
     },
     "execution_count": 18,
     "metadata": {},
     "output_type": "execute_result"
    }
   ],
   "source": [
    "min_btc_close_price = btc_df[\"Close\"].min()\n",
    "max_btc_close_price = btc_df[\"Close\"].max()\n",
    "btc_df[\"Close\"] = ((btc_df[\"Close\"] - min_btc_close_price ) / (max_btc_close_price - min_btc_close_price)) * (1 - 0)\n",
    "btc_df.head()"
   ]
  },
  {
   "cell_type": "code",
   "execution_count": 19,
   "id": "97929c97",
   "metadata": {},
   "outputs": [
    {
     "data": {
      "image/png": "[encoded data removed]",
      "text/plain": [
       "<Figure size 640x480 with 1 Axes>"
      ]
     },
     "metadata": {},
     "output_type": "display_data"
    }
   ],
   "source": [
    "plt.plot(btc_df.index, btc_df, color = \"red\", label= \"Bitcoin price\")\n",
    "plt.plot(btc_df.index, df[\"FEDFUNDS\"], color = \"blue\", label = \"Fed fund rates\")\n",
    "plt.title(\"Comparison between Normalized Bitcoin Price and Fed Funds Rate\")\n",
    "plt.legend()\n",
    "plt.xticks(rotation=45)\n",
    "plt.tight_layout()\n",
    "plt.show()"
   ]
  },
  {
   "cell_type": "markdown",
   "id": "aa366423",
   "metadata": {},
   "source": [
    "## Let's calculate the pearson correlation which gives us a relatively good idea of how these two are related to each other:"
   ]
  },
  {
   "cell_type": "code",
   "execution_count": 20,
   "id": "e21295f4",
   "metadata": {},
   "outputs": [
    {
     "name": "stdout",
     "output_type": "stream",
     "text": [
      "-0.02071678142359367\n",
      "Weak relation\n"
     ]
    }
   ],
   "source": [
    "from scipy.stats import pearsonr\n",
    "pearsonr_result = pearsonr(df[\"FEDFUNDS\"],btc_df[\"Close\"])\n",
    "print(pearsonr_result[0])\n",
    "if abs(pearsonr_result[0]) == 1:\n",
    "    print(\"Perfect linear relationship\")\n",
    "elif abs(pearsonr_result[0]) >= 0.70:\n",
    "    print(\"Strong relation\")\n",
    "elif 0.3 <= abs(pearsonr_result[0]) < 0.7 :\n",
    "    print(\"A moderate relation\")\n",
    "elif abs(pearsonr_result[0]) < 0.3:\n",
    "    print(\"Weak relation\")\n",
    "elif pearsonr_result[0] == 0:\n",
    "    print(\"No correlation\")"
   ]
  },
  {
   "cell_type": "markdown",
   "id": "45e3ff1f",
   "metadata": {},
   "source": [
    "## So there is not a good correlation between them."
   ]
  },
  {
   "cell_type": "markdown",
   "id": "5e092457",
   "metadata": {},
   "source": [
    "## But what if we calculate that in shorted periods. Can they be related? "
   ]
  },
  {
   "cell_type": "code",
   "execution_count": 21,
   "id": "0e7bfc82",
   "metadata": {},
   "outputs": [
    {
     "name": "stderr",
     "output_type": "stream",
     "text": [
      "C:\\ProgramData\\anaconda3\\Lib\\site-packages\\scipy\\stats\\_stats_py.py:4781: ConstantInputWarning: An input array is constant; the correlation coefficient is not defined.\n",
      "  warnings.warn(stats.ConstantInputWarning(msg))\n"
     ]
    }
   ],
   "source": [
    "i = 0\n",
    "pearson_results = []\n",
    "periods = []\n",
    "\n",
    "while i <= 47:\n",
    "    start_period = df.iloc[i][\"DATE\"]\n",
    "    end_period = df.iloc[i+3][\"DATE\"]\n",
    "    periods.append(f\"Period {start_period} - {end_period}\") \n",
    "    \n",
    "    pearson_result = (pearsonr(df[\"FEDFUNDS\"][i:i+4], btc_df[\"Close\"][i:i+4]))[0]\n",
    "    pearson_results.append(pearson_result)\n",
    "    i += 3"
   ]
  },
  {
   "cell_type": "code",
   "execution_count": 22,
   "id": "8a787ac2",
   "metadata": {
    "scrolled": true
   },
   "outputs": [
    {
     "name": "stdout",
     "output_type": "stream",
     "text": [
      "A moderate relation in Period 2020-01-01 - 2020-04-01\n",
      "A moderate relation in Period 2020-04-01 - 2020-07-01\n",
      "A moderate relation in Period 2020-07-01 - 2020-10-01\n",
      "Fed fund was constant in Period 2020-10-01 - 2021-01-01 , the correlation coefficient is not defined.\n",
      "Strong relation in Period 2021-01-01 - 2021-04-01\n",
      "Strong relation in Period 2021-04-01 - 2021-07-01\n",
      "Strong relation in Period 2021-07-01 - 2021-10-01\n",
      "Fed fund was constant in Period 2021-10-01 - 2022-01-01 , the correlation coefficient is not defined.\n",
      "A moderate relation in Period 2022-01-01 - 2022-04-01\n",
      "Strong relation in Period 2022-04-01 - 2022-07-01\n",
      "Weak relation in Period 2022-07-01 - 2022-10-01\n",
      "A moderate relation in Period 2022-10-01 - 2023-01-01\n",
      "Strong relation in Period 2023-01-01 - 2023-04-01\n",
      "Weak relation in Period 2023-04-01 - 2023-07-01\n",
      "A moderate relation in Period 2023-07-01 - 2023-10-01\n",
      "Fed fund was constant in Period 2023-10-01 - 2024-01-01 , the correlation coefficient is not defined.\n"
     ]
    }
   ],
   "source": [
    "import math\n",
    "i = 0\n",
    "labeled_results = {}\n",
    "for p_result in pearson_results:\n",
    "    if abs(p_result) == 1:\n",
    "        print(\"Perfect linear relationship in\" , periods[i])\n",
    "        labeled_results[periods[i]] = \"Perfect\"\n",
    "    elif abs(p_result) >= 0.70:\n",
    "        print(\"Strong relation in\", periods[i])\n",
    "        labeled_results[periods[i]] = \"Strong\"\n",
    "    elif 0.3 <= abs(p_result) < 0.7 :\n",
    "        print(\"A moderate relation in\", periods[i])\n",
    "        labeled_results[periods[i]] = \"Moderate\"\n",
    "    elif abs(p_result) < 0.3:\n",
    "        print(\"Weak relation in\" , periods[i])\n",
    "        labeled_results[periods[i]] = \"Weak\"\n",
    "    elif p_result == 0:\n",
    "        print(\"No correlation in \", periods[i])\n",
    "        labeled_results[periods[i]] = \"NoCorrelation\"\n",
    "    elif math.isnan(p_result):\n",
    "        print(\"Fed fund was constant in\" , periods[i], \", the correlation coefficient is not defined.\")\n",
    "        labeled_results[periods[i]] = \"Nan\"\n",
    "    i+=1"
   ]
  },
  {
   "cell_type": "markdown",
   "id": "7f0e6c76",
   "metadata": {},
   "source": [
    "## We see improvements here. Even tough we got a weak relation before, there are some periods that shows us a strong relation. Let's visualize them to have a better understanding: "
   ]
  },
  {
   "cell_type": "code",
   "execution_count": 32,
   "id": "f27db819",
   "metadata": {},
   "outputs": [
    {
     "data": {
      "text/plain": [
       "<matplotlib.legend.Legend at 0x2ac7d7a2190>"
      ]
     },
     "execution_count": 32,
     "metadata": {},
     "output_type": "execute_result"
    },
    {
     "data": {
      "image/png": "[encoded data removed]",
      "text/plain": [
       "<Figure size 640x480 with 1 Axes>"
      ]
     },
     "metadata": {},
     "output_type": "display_data"
    }
   ],
   "source": [
    "from matplotlib.lines import Line2D\n",
    "\n",
    "colors = {\n",
    "    \"Perfect\": \"green\",\n",
    "    \"Strong\": \"blue\",\n",
    "    \"Moderate\": \"yellow\",\n",
    "    \"Weak\": \"red\",\n",
    "    \"NoCorrelation\": \"orange\",\n",
    "    \"Nan\": \"gray\"\n",
    "}\n",
    "\n",
    "bar_colors = []\n",
    "for period in periods:\n",
    "    if period in labeled_results:\n",
    "        bar_color = colors[labeled_results.get(period)] \n",
    "        bar_colors.append(bar_color)\n",
    "\n",
    "x_values = np.arange(len(periods))\n",
    "    \n",
    "fig, ax = plt.subplots()\n",
    "bars = ax.bar(periods, pearson_results, color=bar_colors)\n",
    "    \n",
    "plt.title('Pearson Correlation Coefficients between FEDFUNDS and BTC Close')\n",
    "plt.tight_layout()\n",
    "plt.xticks(x_values, periods, rotation=90, ha='right')\n",
    "\n",
    "legend_elements = [\n",
    "    Line2D([0], [0], color='green', lw=4, label='Perfect'),\n",
    "    Line2D([0], [0], color='blue', lw=4, label='Strong'),\n",
    "    Line2D([0], [0], color='yellow', lw=4, label='Moderate'),\n",
    "    Line2D([0], [0], color='red', lw=4, label='Weak'),\n",
    "    Line2D([0], [0], color='orange', lw=4, label='No Correlation'),\n",
    "    Line2D([0], [0], color='gray', lw=4, label='Nan')\n",
    "]\n",
    "ax.legend(handles=legend_elements, loc='upper left', bbox_to_anchor=(1, 0.75))"
   ]
  },
  {
   "cell_type": "code",
   "execution_count": null,
   "id": "844d4504",
   "metadata": {},
   "outputs": [],
   "source": []
  }
 ],
 "metadata": {
  "kernelspec": {
   "display_name": "Python 3 (ipykernel)",
   "language": "python",
   "name": "python3"
  },
  "language_info": {
   "codemirror_mode": {
    "name": "ipython",
    "version": 3
   },
   "file_extension": ".py",
   "mimetype": "text/x-python",
   "name": "python",
   "nbconvert_exporter": "python",
   "pygments_lexer": "ipython3",
   "version": "3.11.5"
  }
 },
 "nbformat": 4,
 "nbformat_minor": 5
}
